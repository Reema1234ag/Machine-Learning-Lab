{
  "nbformat": 4,
  "nbformat_minor": 0,
  "metadata": {
    "colab": {
      "name": "Gradient descent.ipynb",
      "provenance": [],
      "collapsed_sections": [],
      "toc_visible": true,
      "authorship_tag": "ABX9TyMEiVM4g0MffYGYr/7hJA/J",
      "include_colab_link": true
    },
    "kernelspec": {
      "name": "python3",
      "display_name": "Python 3"
    }
  },
  "cells": [
    {
      "cell_type": "markdown",
      "metadata": {
        "id": "view-in-github",
        "colab_type": "text"
      },
      "source": [
        "<a href=\"https://colab.research.google.com/github/Reema1234ag/Machine-Learning-Lab/blob/main/Gradient_descent.ipynb\" target=\"_parent\"><img src=\"https://colab.research.google.com/assets/colab-badge.svg\" alt=\"Open In Colab\"/></a>"
      ]
    },
    {
      "cell_type": "code",
      "metadata": {
        "id": "6T9lpDWwHzRM"
      },
      "source": [
        "import numpy as np\r\n",
        "import pandas as pd\r\n",
        "import matplotlib.pyplot as plt\r\n",
        "\r\n",
        "class GradientDescentLinearRegression:\r\n",
        "    def __init__(self, learning_rate=0.01, iterations=1000):\r\n",
        "        self.learning_rate, self.iterations = learning_rate, iterations\r\n",
        "    \r\n",
        "    def fit(self, X, y):\r\n",
        "        b0 = 0\r\n",
        "        b1 = 0\r\n",
        "        n = X.shape[0]\r\n",
        "        for _ in range(self.iterations):\r\n",
        "            b0_deri = np.sum(b1*X + b0 - y)/n\r\n",
        "            b1_deri = np.sum(X*((b1*X + b0) - y))/n\r\n",
        "            b0 = b0 - (self.learning_rate*b0_deri)\r\n",
        "            b1 = b1 - (self.learning_rate*b1_deri)\r\n",
        "        self.b0, self.b1 = b0, b1\r\n",
        "    \r\n",
        "    def predict(self, X):\r\n",
        "        return self.b0 + self.b1*X\r\n",
        "    \r\n",
        "    def rmse(self, X): \r\n",
        "        rmse = 0\r\n",
        "        n = X.shape[0]\r\n",
        "        for i in range(n):\r\n",
        "            y_pred = self.predict(X[i])\r\n",
        "            rmse += (y_pred - y[i])**2\r\n",
        "        rmse = np.sqrt(rmse/n)\r\n",
        "        return rmse\r\n"
      ],
      "execution_count": null,
      "outputs": []
    },
    {
      "cell_type": "code",
      "metadata": {
        "id": "uo3KZxzsLVYB"
      },
      "source": [
        "data=pd.read_csv('/content/headbrain.csv')\r\n",
        "X=data['Head Size(cm^3)'].values/1000\r\n",
        "y=data['Brain Weight(grams)'].values/1000"
      ],
      "execution_count": null,
      "outputs": []
    },
    {
      "cell_type": "code",
      "metadata": {
        "colab": {
          "base_uri": "https://localhost:8080/",
          "height": 312
        },
        "id": "nVfxiDoiLqtf",
        "outputId": "1f70e6d1-1953-4a04-9a33-4b1a18987013"
      },
      "source": [
        "clf=GradientDescentLinearRegression()\r\n",
        "clf.fit(X,y)\r\n",
        "plt.scatter(X,y,color='Black')\r\n",
        "plt.plot(X,clf.predict(X))\r\n",
        "plt.xlabel('Head Size')\r\n",
        "plt.ylabel('Brain Weight')\r\n",
        "plt.title('Gradient Descent Linear Regression')\r\n",
        "plt.show\r\n",
        "#compute rmse\r\n",
        "rmse=clf.rmse(X)\r\n",
        "print(\"RMSE\",rmse)\r\n"
      ],
      "execution_count": null,
      "outputs": [
        {
          "output_type": "stream",
          "text": [
            "RMSE 0.07525305106962135\n"
          ],
          "name": "stdout"
        },
        {
          "output_type": "display_data",
          "data": {
            "image/png": "[encoded data removed]",
            "text/plain": [
              "<Figure size 432x288 with 1 Axes>"
            ]
          },
          "metadata": {
            "tags": [],
            "needs_background": "light"
          }
        }
      ]
    }
  ]
}