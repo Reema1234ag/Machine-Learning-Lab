{
  "nbformat": 4,
  "nbformat_minor": 0,
  "metadata": {
    "colab": {
      "name": "fundamentals of python(ML lab)",
      "provenance": [],
      "collapsed_sections": [],
      "authorship_tag": "ABX9TyPJUsgwsxm4HwoYICblQb7L",
      "include_colab_link": true
    },
    "kernelspec": {
      "name": "python3",
      "display_name": "Python 3"
    }
  },
  "cells": [
    {
      "cell_type": "markdown",
      "metadata": {
        "id": "view-in-github",
        "colab_type": "text"
      },
      "source": [
        "<a href=\"https://colab.research.google.com/github/Reema1234ag/Machine-Learning-Lab/blob/main/fundamentals_of_python(ML_lab).ipynb\" target=\"_parent\"><img src=\"https://colab.research.google.com/assets/colab-badge.svg\" alt=\"Open In Colab\"/></a>"
      ]
    },
    {
      "cell_type": "code",
      "metadata": {
        "colab": {
          "base_uri": "https://localhost:8080/"
        },
        "id": "r4gURCgiQshs",
        "outputId": "8d28e21b-6f68-47f3-85e3-95bdafc5fac5"
      },
      "source": [
        "#Check Python Version\r\n",
        "from platform import python_version    #The platform module in Python is used to access the underlying platform's data, such as, hardware,\r\n",
        "#operating system, and interpreter version information.\r\n",
        "print(python_version())\r\n"
      ],
      "execution_count": null,
      "outputs": [
        {
          "output_type": "stream",
          "text": [
            "3.6.9\n"
          ],
          "name": "stdout"
        }
      ]
    },
    {
      "cell_type": "code",
      "metadata": {
        "colab": {
          "base_uri": "https://localhost:8080/"
        },
        "id": "lsf230T5Ts24",
        "outputId": "34e6048a-58d5-4e06-ba69-e3648dc961cf"
      },
      "source": [
        "# How to check Package version\r\n",
        "#!pip show numpy\r\n",
        "import numpy\r\n",
        "print(numpy.__version__)\r\n"
      ],
      "execution_count": null,
      "outputs": [
        {
          "output_type": "stream",
          "text": [
            "1.19.5\n"
          ],
          "name": "stdout"
        }
      ]
    },
    {
      "cell_type": "code",
      "metadata": {
        "colab": {
          "base_uri": "https://localhost:8080/"
        },
        "id": "zSfwvwJpUxiP",
        "outputId": "51a4c826-3997-4201-957d-5901ff2e957f"
      },
      "source": [
        "# Multi-Line Statements\r\n",
        "days = ['Monday', 'Tuesday', 'Wednesday',\r\n",
        "'Thursday', 'Friday']\r\n",
        "item_one, item_two, item_three = 'one', 'two', 'three'\r\n",
        "total = item_one + \\\r\n",
        "item_two + \\\r\n",
        "item_three\r\n",
        "print(total)\r\n",
        "print(days)\r\n"
      ],
      "execution_count": null,
      "outputs": [
        {
          "output_type": "stream",
          "text": [
            "onetwothree\n",
            "['Monday', 'Tuesday', 'Wednesday', 'Thursday', 'Friday']\n"
          ],
          "name": "stdout"
        }
      ]
    },
    {
      "cell_type": "code",
      "metadata": {
        "colab": {
          "base_uri": "https://localhost:8080/"
        },
        "id": "TgCg_Xz3U0CK",
        "outputId": "9c7dbf25-4190-4f67-8ee7-6de09073195b"
      },
      "source": [
        "#Quotation in Python\r\n",
        "word = 'word'\r\n",
        "sentence = \"This is a sentence.\"\r\n",
        "paragraph = \"\"\"This is a paragraph. It is\r\n",
        "made up of multiple lines and sentences.\"\"\"\r\n",
        "print(paragraph)\r\n"
      ],
      "execution_count": null,
      "outputs": [
        {
          "output_type": "stream",
          "text": [
            "This is a paragraph. It is\n",
            "made up of multiple lines and sentences.\n"
          ],
          "name": "stdout"
        }
      ]
    },
    {
      "cell_type": "code",
      "metadata": {
        "colab": {
          "base_uri": "https://localhost:8080/"
        },
        "id": "ZJY4ZTFdWaAD",
        "outputId": "3ceea3e5-6ad2-466b-8148-bf25a03ccaa3"
      },
      "source": [
        "import sys; x = 'Dr. Neeraj Gupta'; sys.stdout.write(x + '\\n')\r\n",
        "for i in range(10): print(\"A\", end= \" \" ); print(\"B\", end = \" \")\r\n",
        "for i in range(10): print(\"\\n i equals Value\") if i==7 else None\r\n",
        "for i in range(80, 90): print(i, end=\" \") if (i!=89) else print(i)\r\n"
      ],
      "execution_count": null,
      "outputs": [
        {
          "output_type": "stream",
          "text": [
            "Dr. Neeraj Gupta\n",
            "A B A B A B A B A B A B A B A B A B A B \n",
            " i equals Value\n",
            "80 81 82 83 84 85 86 87 88 89\n"
          ],
          "name": "stdout"
        }
      ]
    },
    {
      "cell_type": "code",
      "metadata": {
        "colab": {
          "base_uri": "https://localhost:8080/"
        },
        "id": "RxGbADGSWcIq",
        "outputId": "33113a85-6385-4c3f-f87f-3f68c45f25f0"
      },
      "source": [
        "counter = 5# An integer\r\n",
        "miles = 1000.0 # A floating point\r\n",
        "name = \"Dr Neeraj Gupta\" # A string\r\n",
        "print(type( counter))\r\n",
        "\r\n",
        "#sys.getsizeof() returns the memory size of the object in bytes\r\n",
        "\r\n",
        "print(sys.getsizeof(counter)) # returns 28 bytes\r\n",
        "print(sys.getsizeof(\"\")) #returns 51 as its tuple\r\n",
        "print(sys.getsizeof([])) #returns 64 as its list\r\n"
      ],
      "execution_count": null,
      "outputs": [
        {
          "output_type": "stream",
          "text": [
            "<class 'int'>\n",
            "28\n",
            "53\n",
            "64\n"
          ],
          "name": "stdout"
        }
      ]
    },
    {
      "cell_type": "code",
      "metadata": {
        "colab": {
          "base_uri": "https://localhost:8080/"
        },
        "id": "uhPr0S3uWmWy",
        "outputId": "0e2c55be-af67-4a68-f59a-439872a62d44"
      },
      "source": [
        "a = b = c = 1\r\n",
        "a, b, c = 1, 2, \"RAM\"\r\n",
        "print(a)\r\n",
        "print(b)\r\n",
        "print(c)\r\n"
      ],
      "execution_count": null,
      "outputs": [
        {
          "output_type": "stream",
          "text": [
            "1\n",
            "2\n",
            "RAM\n"
          ],
          "name": "stdout"
        }
      ]
    },
    {
      "cell_type": "code",
      "metadata": {
        "colab": {
          "base_uri": "https://localhost:8080/"
        },
        "id": "rqkz4pqEWzgL",
        "outputId": "ce3b2915-e0f1-4d59-8099-f61974a9c65e"
      },
      "source": [
        "print(0o10) # Octal 8\r\n",
        "print(0x10) # Hexa\r\n",
        "print(0b10) # Binary\r\n",
        "print(type(10))\r\n",
        "print(4.2e-4) # 0.00042\r\n",
        "print(.4e7)  #4000000.0\r\n",
        "print(type(2+3j)) #complex\r\n"
      ],
      "execution_count": null,
      "outputs": [
        {
          "output_type": "stream",
          "text": [
            "8\n",
            "16\n",
            "2\n",
            "<class 'int'>\n",
            "0.00042\n",
            "4000000.0\n",
            "<class 'complex'>\n"
          ],
          "name": "stdout"
        }
      ]
    },
    {
      "cell_type": "code",
      "metadata": {
        "colab": {
          "base_uri": "https://localhost:8080/"
        },
        "id": "sz-aRcH-XPcl",
        "outputId": "ad10b991-b356-4b0e-f3d9-53c5715e8af5"
      },
      "source": [
        "str= 'Hello World!'\r\n",
        "print(str) # Prints complete string\r\n",
        "print(str[0]) # Prints first character of the string\r\n",
        "print(str[2:5]) # Prints characters starting from 3rd to 5th\r\n",
        "print(str[2:]) # Prints string starting from 3rd character\r\n",
        "print(str* 2) # Prints string two times\r\n",
        "print(str+ \"TEST\") # Prints concatenated string\r\n",
        "print(str[:-2]) # Hello Worl\r\n",
        "print(str[-2]) #d\r\n",
        "print(str[-2:]) #d!\r\n",
        "print(str[::-1]) # Reverse !dlroWolleH\r\n",
        "print(str[::-2]) # Alternative reverse !lo le\r\n",
        "len(str) # 12 including space\r\n",
        "str.count(' ') # Space Count\r\n"
      ],
      "execution_count": null,
      "outputs": [
        {
          "output_type": "stream",
          "text": [
            "Hello World!\n",
            "H\n",
            "llo\n",
            "llo World!\n",
            "Hello World!Hello World!\n",
            "Hello World!TEST\n",
            "Hello Worl\n",
            "d\n",
            "d!\n",
            "!dlroW olleH\n",
            "!lo le\n"
          ],
          "name": "stdout"
        },
        {
          "output_type": "execute_result",
          "data": {
            "text/plain": [
              "1"
            ]
          },
          "metadata": {
            "tags": []
          },
          "execution_count": 10
        }
      ]
    },
    {
      "cell_type": "code",
      "metadata": {
        "colab": {
          "base_uri": "https://localhost:8080/"
        },
        "id": "JwZfQCjKYstw",
        "outputId": "fed53809-5148-4a86-9fb4-6465d0d65e6c"
      },
      "source": [
        "tuple = ('xyz', 123, 1.23, 'RAM', 17.5 )\r\n",
        "tinytuple= (123, 'RAM')\r\n",
        "print(tuple) # Prints complete list\r\n",
        "print(tuple[0]) # Prints first element of the list\r\n",
        "print(tuple[1:3]) # Prints elements starting from 2nd till 3rd\r\n",
        "print(tuple[2:]) # Prints elements starting from 3rd element\r\n",
        "print(tinytuple* 2) # Prints list two times\r\n",
        "print (tuple + tinytuple) # Prints concatenated lists\r\n",
        "#tuple.append('Dr Neeraj Gupta') # Not Applicable\r\n"
      ],
      "execution_count": null,
      "outputs": [
        {
          "output_type": "stream",
          "text": [
            "('xyz', 123, 1.23, 'RAM', 17.5)\n",
            "xyz\n",
            "(123, 1.23)\n",
            "(1.23, 'RAM', 17.5)\n",
            "(123, 'RAM', 123, 'RAM')\n",
            "('xyz', 123, 1.23, 'RAM', 17.5, 123, 'RAM')\n"
          ],
          "name": "stdout"
        }
      ]
    },
    {
      "cell_type": "code",
      "metadata": {
        "colab": {
          "base_uri": "https://localhost:8080/"
        },
        "id": "Vj_waffUZGuc",
        "outputId": "68233432-8e32-4aa5-fb8a-0f24f8364d74"
      },
      "source": [
        "dict= {}\r\n",
        "dict['one'] = \"This is one\"\r\n",
        "dict[2] = \"This is two\"\r\n",
        "print(dict)\r\n",
        "tinydict= {'name': 'RAM','code':'8989', 'dept': 'IT'}\r\n",
        "print(dict['one']) # Prints value for 'one' key\r\n",
        "print(dict[2]) # Prints value for 2 key\r\n",
        "print(tinydict) # Prints complete dictionary\r\n",
        "print(tinydict.keys()) # Prints all the keys\r\n",
        "print(tinydict.values()) # Prints all the values\r\n"
      ],
      "execution_count": null,
      "outputs": [
        {
          "output_type": "stream",
          "text": [
            "{'one': 'This is one', 2: 'This is two'}\n",
            "This is one\n",
            "This is two\n",
            "{'name': 'RAM', 'code': '8989', 'dept': 'IT'}\n",
            "dict_keys(['name', 'code', 'dept'])\n",
            "dict_values(['RAM', '8989', 'IT'])\n"
          ],
          "name": "stdout"
        }
      ]
    },
    {
      "cell_type": "code",
      "metadata": {
        "colab": {
          "base_uri": "https://localhost:8080/",
          "height": 229
        },
        "id": "lakDcf_yZQUY",
        "outputId": "ba66c615-e6fc-4aa9-c269-f0974b16513d"
      },
      "source": [
        "T1=(10,50,20,9,40,25,60,30,1,56)\r\n",
        "print(T1[0])\r\n",
        "L1=list(T1)\r\n",
        "L1[5]=100\r\n",
        "T1=tuple(L1)\r\n",
        "T1\r\n"
      ],
      "execution_count": null,
      "outputs": [
        {
          "output_type": "stream",
          "text": [
            "10\n"
          ],
          "name": "stdout"
        },
        {
          "output_type": "error",
          "ename": "TypeError",
          "evalue": "ignored",
          "traceback": [
            "\u001b[0;31m---------------------------------------------------------------------------\u001b[0m",
            "\u001b[0;31mTypeError\u001b[0m                                 Traceback (most recent call last)",
            "\u001b[0;32m<ipython-input-15-0fd05a3408d1>\u001b[0m in \u001b[0;36m<module>\u001b[0;34m()\u001b[0m\n\u001b[1;32m      3\u001b[0m \u001b[0mL1\u001b[0m\u001b[0;34m=\u001b[0m\u001b[0mlist\u001b[0m\u001b[0;34m(\u001b[0m\u001b[0mT1\u001b[0m\u001b[0;34m)\u001b[0m\u001b[0;34m\u001b[0m\u001b[0;34m\u001b[0m\u001b[0m\n\u001b[1;32m      4\u001b[0m \u001b[0mL1\u001b[0m\u001b[0;34m[\u001b[0m\u001b[0;36m5\u001b[0m\u001b[0;34m]\u001b[0m\u001b[0;34m=\u001b[0m\u001b[0;36m100\u001b[0m\u001b[0;34m\u001b[0m\u001b[0;34m\u001b[0m\u001b[0m\n\u001b[0;32m----> 5\u001b[0;31m \u001b[0mT1\u001b[0m\u001b[0;34m=\u001b[0m\u001b[0mtuple\u001b[0m\u001b[0;34m(\u001b[0m\u001b[0mL1\u001b[0m\u001b[0;34m)\u001b[0m\u001b[0;34m\u001b[0m\u001b[0;34m\u001b[0m\u001b[0m\n\u001b[0m\u001b[1;32m      6\u001b[0m \u001b[0mT1\u001b[0m\u001b[0;34m\u001b[0m\u001b[0;34m\u001b[0m\u001b[0m\n",
            "\u001b[0;31mTypeError\u001b[0m: 'tuple' object is not callable"
          ]
        }
      ]
    },
    {
      "cell_type": "code",
      "metadata": {
        "colab": {
          "base_uri": "https://localhost:8080/"
        },
        "id": "MtomfHpxStbv",
        "outputId": "73751452-106d-4210-e439-121611efb6ab"
      },
      "source": [
        "#Single-dimensional Numpy Array\r\n",
        "import numpy as np\r\n",
        "a = np.array([1,2,3])\r\n",
        "print(a)"
      ],
      "execution_count": null,
      "outputs": [
        {
          "output_type": "stream",
          "text": [
            "[1 2 3]\n"
          ],
          "name": "stdout"
        }
      ]
    },
    {
      "cell_type": "code",
      "metadata": {
        "colab": {
          "base_uri": "https://localhost:8080/"
        },
        "id": "WK_jv0IaSzif",
        "outputId": "3636c164-ae55-42f9-d843-f6440a2833e0"
      },
      "source": [
        "#Multi-dimensional Array\r\n",
        "a = np.array([(1,2,3),(4,5,6)])\r\n",
        "print(a)"
      ],
      "execution_count": null,
      "outputs": [
        {
          "output_type": "stream",
          "text": [
            "[[1 2 3]\n",
            " [4 5 6]]\n"
          ],
          "name": "stdout"
        }
      ]
    },
    {
      "cell_type": "code",
      "metadata": {
        "colab": {
          "base_uri": "https://localhost:8080/"
        },
        "id": "TX55KIoxTV1C",
        "outputId": "ebffe453-aad9-433c-b527-00a3eba28d97"
      },
      "source": [
        "#comparing memory occupied by both\r\n",
        "import numpy as np\r\n",
        "import sys\r\n",
        "#memory occupied by list\r\n",
        "s = range(1000)\r\n",
        "print('memory occupied by List',sys.getsizeof(10)*len(s))\r\n",
        "#memory occupied by numpy\r\n",
        "d = np.arange(1000)\r\n",
        "print('memory occupied by Numpy Array',d.size*d.itemsize)"
      ],
      "execution_count": null,
      "outputs": [
        {
          "output_type": "stream",
          "text": [
            "memory occupied by List 28000\n",
            "memory occupied by Numpy Array 8000\n"
          ],
          "name": "stdout"
        }
      ]
    },
    {
      "cell_type": "code",
      "metadata": {
        "colab": {
          "base_uri": "https://localhost:8080/"
        },
        "id": "Join5FLHT7Zk",
        "outputId": "8d1fd119-76d1-437b-ec6f-85731c4b66b1"
      },
      "source": [
        "import time\r\n",
        "print(time.time())"
      ],
      "execution_count": null,
      "outputs": [
        {
          "output_type": "stream",
          "text": [
            "1611725326.3605347\n"
          ],
          "name": "stdout"
        }
      ]
    },
    {
      "cell_type": "code",
      "metadata": {
        "colab": {
          "base_uri": "https://localhost:8080/"
        },
        "id": "kmT-k-dvVqjG",
        "outputId": "9af1342c-866c-4c22-d4cc-91f034927341"
      },
      "source": [
        "import time\r\n",
        "#comparing speed of list and numpy array\r\n",
        "size = 10000000\r\n",
        "#checking list taken time\r\n",
        "l1 = range(size)\r\n",
        "l2 = range(size)\r\n",
        "start = time.time()\r\n",
        "result = [(x,y) for x,y in zip(l1,l2)]\r\n",
        "print('Time taken by List:', time.time()-start)\r\n",
        "#checking numpy array taken time\r\n",
        "a1 = np.arange(size)\r\n",
        "a2 = np.arange(size)\r\n",
        "start2 = time.time()\r\n",
        "result_numpy = a1+a2\r\n",
        "print('Time taken by numpy:', time.time()-start2)"
      ],
      "execution_count": null,
      "outputs": [
        {
          "output_type": "stream",
          "text": [
            "Time taken by List: 1.8507330417633057\n",
            "Time taken by numpy: 0.03788018226623535\n"
          ],
          "name": "stdout"
        }
      ]
    },
    {
      "cell_type": "code",
      "metadata": {
        "colab": {
          "base_uri": "https://localhost:8080/"
        },
        "id": "4LScLm50Wo8e",
        "outputId": "c3a017c9-7fdf-4a08-d3c6-9bfb3bad132b"
      },
      "source": [
        "import numpy as np\r\n",
        "np.arange(1,10,2)"
      ],
      "execution_count": null,
      "outputs": [
        {
          "output_type": "execute_result",
          "data": {
            "text/plain": [
              "array([1, 3, 5, 7, 9])"
            ]
          },
          "metadata": {
            "tags": []
          },
          "execution_count": 8
        }
      ]
    },
    {
      "cell_type": "code",
      "metadata": {
        "colab": {
          "base_uri": "https://localhost:8080/"
        },
        "id": "N6bKeMMlWsOb",
        "outputId": "4fed98be-a85c-4587-d5a6-0238822cb9ea"
      },
      "source": [
        "np.arange(7, 0, -3)"
      ],
      "execution_count": null,
      "outputs": [
        {
          "output_type": "execute_result",
          "data": {
            "text/plain": [
              "array([7, 4, 1])"
            ]
          },
          "metadata": {
            "tags": []
          },
          "execution_count": 9
        }
      ]
    },
    {
      "cell_type": "code",
      "metadata": {
        "colab": {
          "base_uri": "https://localhost:8080/"
        },
        "id": "ECGe23ImWyf7",
        "outputId": "e214b6cf-3683-4252-e71c-c0d4eb07d389"
      },
      "source": [
        "# if you provide equal values for start and stop, \r\n",
        "# then you will get an empty array\r\n",
        "print(np.arange(0))\r\n",
        "np.arange(2,2)\r\n",
        "np.arange(8,2,1)\r\n",
        "np.arange(2,8,-1)"
      ],
      "execution_count": null,
      "outputs": [
        {
          "output_type": "stream",
          "text": [
            "[]\n"
          ],
          "name": "stdout"
        },
        {
          "output_type": "execute_result",
          "data": {
            "text/plain": [
              "array([], dtype=int64)"
            ]
          },
          "metadata": {
            "tags": []
          },
          "execution_count": 10
        }
      ]
    },
    {
      "cell_type": "code",
      "metadata": {
        "colab": {
          "base_uri": "https://localhost:8080/"
        },
        "id": "RRo8k0m7XPAj",
        "outputId": "8c39ea3d-6abe-4469-cfc3-25f748aa3029"
      },
      "source": [
        "# ndim\r\n",
        "# Find the dimension of the array, whether it is a two-dimensional array or a single dimensional array\r\n",
        "import numpy as np\r\n",
        "a = np.array([(1,2,3),(4,5,6)])\r\n",
        "print(a)\r\n",
        "a1 = np.array([((1,2,3),(4,5,6)),((1,2,3),(4,5,6))])\r\n",
        "print(a1)\r\n",
        "print(a.ndim)\r\n",
        "print(a1.ndim)"
      ],
      "execution_count": null,
      "outputs": [
        {
          "output_type": "stream",
          "text": [
            "[[1 2 3]\n",
            " [4 5 6]]\n",
            "[[[1 2 3]\n",
            "  [4 5 6]]\n",
            "\n",
            " [[1 2 3]\n",
            "  [4 5 6]]]\n",
            "2\n",
            "3\n"
          ],
          "name": "stdout"
        }
      ]
    },
    {
      "cell_type": "code",
      "metadata": {
        "colab": {
          "base_uri": "https://localhost:8080/"
        },
        "id": "3zEvHj8OXdu5",
        "outputId": "01e0102e-a948-4af6-9104-225d3ba240a2"
      },
      "source": [
        "# itemsize\r\n",
        "# •calculate the byte size of each element\r\n",
        "import numpy as np\r\n",
        "a = np.array([(1,2,3)])\r\n",
        "print(a.itemsize)"
      ],
      "execution_count": null,
      "outputs": [
        {
          "output_type": "stream",
          "text": [
            "8\n"
          ],
          "name": "stdout"
        }
      ]
    },
    {
      "cell_type": "code",
      "metadata": {
        "colab": {
          "base_uri": "https://localhost:8080/"
        },
        "id": "2mONN2tFXrgG",
        "outputId": "0f08bb95-be95-41bf-92a8-27b761682523"
      },
      "source": [
        "# dtype\r\n",
        "# •find the data type of the elements that are stored in anarray. So, if you want to know the data type of a particular element, you can use‘dtype’ function which will print the datatypealong with the size.\r\n",
        "import numpy as np\r\n",
        "a = np.array([(1,2,3)])\r\n",
        "print(a.dtype)"
      ],
      "execution_count": null,
      "outputs": [
        {
          "output_type": "stream",
          "text": [
            "int64\n"
          ],
          "name": "stdout"
        }
      ]
    },
    {
      "cell_type": "code",
      "metadata": {
        "colab": {
          "base_uri": "https://localhost:8080/"
        },
        "id": "ZhnYhGJtXznD",
        "outputId": "490a826c-e6b9-479a-8ce4-0bec4653ee99"
      },
      "source": [
        "# ‘size’ and ‘shape’\r\n",
        "# •find the size and shape of the array using ‘size’ and ‘shape’ function respectively.\r\n",
        "import numpy as np\r\n",
        "a = np.array([(1,2,3,4,5,6)])\r\n",
        "a1 = np.array([(1,2,3,3),(4,5,6,4)])\r\n",
        "print(a1)\r\n",
        "print(a1.size)\r\n",
        "print(a1.shape)"
      ],
      "execution_count": null,
      "outputs": [
        {
          "output_type": "stream",
          "text": [
            "[[1 2 3 3]\n",
            " [4 5 6 4]]\n",
            "8\n",
            "(2, 4)\n"
          ],
          "name": "stdout"
        }
      ]
    },
    {
      "cell_type": "code",
      "metadata": {
        "colab": {
          "base_uri": "https://localhost:8080/"
        },
        "id": "WfSPAxd3YE7q",
        "outputId": "34db50c5-2c9c-4197-ab4b-de180e522dd9"
      },
      "source": [
        "import numpy as np\r\n",
        "a = np.array([(8,9,10),(11,12,13)])\r\n",
        "print(a)\r\n",
        "b = a.reshape(6,1)\r\n",
        "print(b)"
      ],
      "execution_count": null,
      "outputs": [
        {
          "output_type": "stream",
          "text": [
            "[[ 8  9 10]\n",
            " [11 12 13]]\n",
            "[[ 8]\n",
            " [ 9]\n",
            " [10]\n",
            " [11]\n",
            " [12]\n",
            " [13]]\n"
          ],
          "name": "stdout"
        }
      ]
    },
    {
      "cell_type": "code",
      "metadata": {
        "colab": {
          "base_uri": "https://localhost:8080/",
          "height": 246
        },
        "id": "WRD27S9IYUVk",
        "outputId": "99dabbca-124b-40fd-ac32-231462e227fc"
      },
      "source": [
        "import numpy as np\r\n",
        "a = np.array([(8,9,10),(11,12,13)])\r\n",
        "print(a)\r\n",
        "b = a.reshape(5,1)\r\n",
        "print(b)"
      ],
      "execution_count": null,
      "outputs": [
        {
          "output_type": "stream",
          "text": [
            "[[ 8  9 10]\n",
            " [11 12 13]]\n"
          ],
          "name": "stdout"
        },
        {
          "output_type": "error",
          "ename": "ValueError",
          "evalue": "ignored",
          "traceback": [
            "\u001b[0;31m---------------------------------------------------------------------------\u001b[0m",
            "\u001b[0;31mValueError\u001b[0m                                Traceback (most recent call last)",
            "\u001b[0;32m<ipython-input-16-d739418330df>\u001b[0m in \u001b[0;36m<module>\u001b[0;34m()\u001b[0m\n\u001b[1;32m      2\u001b[0m \u001b[0ma\u001b[0m \u001b[0;34m=\u001b[0m \u001b[0mnp\u001b[0m\u001b[0;34m.\u001b[0m\u001b[0marray\u001b[0m\u001b[0;34m(\u001b[0m\u001b[0;34m[\u001b[0m\u001b[0;34m(\u001b[0m\u001b[0;36m8\u001b[0m\u001b[0;34m,\u001b[0m\u001b[0;36m9\u001b[0m\u001b[0;34m,\u001b[0m\u001b[0;36m10\u001b[0m\u001b[0;34m)\u001b[0m\u001b[0;34m,\u001b[0m\u001b[0;34m(\u001b[0m\u001b[0;36m11\u001b[0m\u001b[0;34m,\u001b[0m\u001b[0;36m12\u001b[0m\u001b[0;34m,\u001b[0m\u001b[0;36m13\u001b[0m\u001b[0;34m)\u001b[0m\u001b[0;34m]\u001b[0m\u001b[0;34m)\u001b[0m\u001b[0;34m\u001b[0m\u001b[0;34m\u001b[0m\u001b[0m\n\u001b[1;32m      3\u001b[0m \u001b[0mprint\u001b[0m\u001b[0;34m(\u001b[0m\u001b[0ma\u001b[0m\u001b[0;34m)\u001b[0m\u001b[0;34m\u001b[0m\u001b[0;34m\u001b[0m\u001b[0m\n\u001b[0;32m----> 4\u001b[0;31m \u001b[0mb\u001b[0m \u001b[0;34m=\u001b[0m \u001b[0ma\u001b[0m\u001b[0;34m.\u001b[0m\u001b[0mreshape\u001b[0m\u001b[0;34m(\u001b[0m\u001b[0;36m5\u001b[0m\u001b[0;34m,\u001b[0m\u001b[0;36m1\u001b[0m\u001b[0;34m)\u001b[0m\u001b[0;34m\u001b[0m\u001b[0;34m\u001b[0m\u001b[0m\n\u001b[0m\u001b[1;32m      5\u001b[0m \u001b[0mprint\u001b[0m\u001b[0;34m(\u001b[0m\u001b[0mb\u001b[0m\u001b[0;34m)\u001b[0m\u001b[0;34m\u001b[0m\u001b[0;34m\u001b[0m\u001b[0m\n",
            "\u001b[0;31mValueError\u001b[0m: cannot reshape array of size 6 into shape (5,1)"
          ]
        }
      ]
    },
    {
      "cell_type": "code",
      "metadata": {
        "colab": {
          "base_uri": "https://localhost:8080/"
        },
        "id": "cviSh8GjYbu-",
        "outputId": "ccb84912-949f-490a-b43f-d08c08604ae9"
      },
      "source": [
        "import numpy as np\r\n",
        "a = np.array([(8,9,10),(11,12,13)])\r\n",
        "print(a)\r\n",
        "b = a.reshape(3,2)       //multipication should be 6\r\n",
        "print(b)"
      ],
      "execution_count": null,
      "outputs": [
        {
          "output_type": "stream",
          "text": [
            "[[ 8  9 10]\n",
            " [11 12 13]]\n",
            "[[ 8  9]\n",
            " [10 11]\n",
            " [12 13]]\n"
          ],
          "name": "stdout"
        }
      ]
    },
    {
      "cell_type": "code",
      "metadata": {
        "colab": {
          "base_uri": "https://localhost:8080/"
        },
        "id": "5jE7cES3YoNA",
        "outputId": "92f9b393-e24e-47d2-d26d-a01b33797f3d"
      },
      "source": [
        "import numpy as np\r\n",
        "a = np.array([(1,2,3,4),(3,4,5,6)])\r\n",
        "print(a)\r\n",
        "print(a[1,3])"
      ],
      "execution_count": null,
      "outputs": [
        {
          "output_type": "stream",
          "text": [
            "[[1 2 3 4]\n",
            " [3 4 5 6]]\n",
            "6\n"
          ],
          "name": "stdout"
        }
      ]
    },
    {
      "cell_type": "code",
      "metadata": {
        "colab": {
          "base_uri": "https://localhost:8080/"
        },
        "id": "xAZD159oY_lw",
        "outputId": "93988f67-f9e3-4693-8265-c4952b748e49"
      },
      "source": [
        "import numpy as np\r\n",
        "a = np.array([(8,9),(10,11),(12,13)])\r\n",
        "print(a[0:2,1])"
      ],
      "execution_count": null,
      "outputs": [
        {
          "output_type": "stream",
          "text": [
            "[ 9 11]\n"
          ],
          "name": "stdout"
        }
      ]
    },
    {
      "cell_type": "code",
      "metadata": {
        "colab": {
          "base_uri": "https://localhost:8080/"
        },
        "id": "fiIyKdPWZcD5",
        "outputId": "a2dc2d8d-6f77-4695-9b09-0e4675c7543d"
      },
      "source": [
        "# 2nd element from the zeroth and first index of the array\r\n",
        "import numpy as np\r\n",
        "a = np.array([(1,2,3,4),(3,4,5,6)])\r\n",
        "print(a[0:, 2])"
      ],
      "execution_count": null,
      "outputs": [
        {
          "output_type": "stream",
          "text": [
            "[3 5]\n"
          ],
          "name": "stdout"
        }
      ]
    },
    {
      "cell_type": "code",
      "metadata": {
        "colab": {
          "base_uri": "https://localhost:8080/"
        },
        "id": "O4-O3BzYa6is",
        "outputId": "c5b075f5-3eaf-40c7-f1d0-de394a641de2"
      },
      "source": [
        "#It has printed 10 values between 1 to 3\r\n",
        "import numpy as np\r\n",
        "a=np.linspace(1,3,10)\r\n",
        "print(a)"
      ],
      "execution_count": null,
      "outputs": [
        {
          "output_type": "stream",
          "text": [
            "[1.         1.22222222 1.44444444 1.66666667 1.88888889 2.11111111\n",
            " 2.33333333 2.55555556 2.77777778 3.        ]\n"
          ],
          "name": "stdout"
        }
      ]
    },
    {
      "cell_type": "code",
      "metadata": {
        "colab": {
          "base_uri": "https://localhost:8080/"
        },
        "id": "oknTogwobMI8",
        "outputId": "9aa596e2-a0da-4439-b857-bfd76312bd97"
      },
      "source": [
        "import numpy as np\r\n",
        "a= np.array([1,2,3])\r\n",
        "print(a.min())\r\n",
        "print(a.max())\r\n",
        "print(a.sum())"
      ],
      "execution_count": null,
      "outputs": [
        {
          "output_type": "stream",
          "text": [
            "1\n",
            "3\n",
            "6\n"
          ],
          "name": "stdout"
        }
      ]
    }
  ]
}