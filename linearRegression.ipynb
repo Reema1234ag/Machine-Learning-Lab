{
  "nbformat": 4,
  "nbformat_minor": 0,
  "metadata": {
    "colab": {
      "name": "linearRegression.ipynb",
      "provenance": [],
      "collapsed_sections": [],
      "authorship_tag": "ABX9TyP0zXSVjCD8zomCx+mJp3V+",
      "include_colab_link": true
    },
    "kernelspec": {
      "name": "python3",
      "display_name": "Python 3"
    }
  },
  "cells": [
    {
      "cell_type": "markdown",
      "metadata": {
        "id": "view-in-github",
        "colab_type": "text"
      },
      "source": [
        "<a href=\"https://colab.research.google.com/github/Reema1234ag/Machine-Learning-Lab/blob/main/linearRegression.ipynb\" target=\"_parent\"><img src=\"https://colab.research.google.com/assets/colab-badge.svg\" alt=\"Open In Colab\"/></a>"
      ]
    },
    {
      "cell_type": "code",
      "metadata": {
        "id": "dzapy4z1DRsW"
      },
      "source": [
        "import numpy as np\r\n",
        "import pandas as pd\r\n",
        "import matplotlib.pyplot as plt\r\n"
      ],
      "execution_count": null,
      "outputs": []
    },
    {
      "cell_type": "code",
      "metadata": {
        "colab": {
          "base_uri": "https://localhost:8080/"
        },
        "id": "pFaAGsRFGV5G",
        "outputId": "5de54d09-c53b-4231-9287-15e2cc5b18a4"
      },
      "source": [
        "#Two Points are given (3, 5) and (9,10)\r\n",
        "#Find equation of line ? \r\n",
        "def slope_intercept(x1,y1,x2,y2):\r\n",
        "    a = (y2 - y1) / (x2 - x1)\r\n",
        "    b = y1 - a * x1     \r\n",
        "    return a,b\r\n",
        "m,c = slope_intercept(3,5,9,10)\r\n",
        "print(slope_intercept(3,5,9,10))\r\n",
        "print(\"Equation of line : y = {0:.2f}.x + {1}\")\r\n"
      ],
      "execution_count": null,
      "outputs": [
        {
          "output_type": "stream",
          "text": [
            "(0.8333333333333334, 2.5)\n",
            "Equation of line : y = {0:.2f}.x + {1}\n"
          ],
          "name": "stdout"
        }
      ]
    },
    {
      "cell_type": "code",
      "metadata": {
        "colab": {
          "base_uri": "https://localhost:8080/",
          "height": 282
        },
        "id": "K5cLxwROGp2F",
        "outputId": "65093050-017a-4b21-f3da-0f7b48bfca90"
      },
      "source": [
        "# X : 2, 3, 5, 9, 7, 11, 10.5\r\n",
        "# Y : 3, 5, 9, 10, 6,5, 11.8, ?\r\n",
        "X =[ 2, 3, 5, 9, 11]\r\n",
        "Y =[ 3, 5, 9, 10, 12 ] \r\n",
        "\r\n",
        "# Ploting Line\r\n",
        "plt.scatter(X,Y,label='Scatter plot')\r\n",
        "plt.plot(X,Y,label='Line')\r\n"
      ],
      "execution_count": null,
      "outputs": [
        {
          "output_type": "execute_result",
          "data": {
            "text/plain": [
              "[<matplotlib.lines.Line2D at 0x7f2b098c7dd8>]"
            ]
          },
          "metadata": {
            "tags": []
          },
          "execution_count": 6
        },
        {
          "output_type": "display_data",
          "data": {
            "image/png": "[encoded data removed]",
            "text/plain": [
              "<Figure size 432x288 with 1 Axes>"
            ]
          },
          "metadata": {
            "tags": [],
            "needs_background": "light"
          }
        }
      ]
    },
    {
      "cell_type": "code",
      "metadata": {
        "id": "UaqDLwV_MgaZ"
      },
      "source": [
        ""
      ],
      "execution_count": null,
      "outputs": []
    },
    {
      "cell_type": "code",
      "metadata": {
        "id": "PSUef80THchN"
      },
      "source": [
        "# Collecting X and Y\r\n",
        "X = [171,151,124,134,156] #height\r\n",
        "Y = [80,60,45,50,65] #weight\r\n"
      ],
      "execution_count": null,
      "outputs": []
    },
    {
      "cell_type": "code",
      "metadata": {
        "id": "1hlE2gV6HtW-"
      },
      "source": [
        "# Calculating coefficient\r\n",
        "\r\n",
        "# Mean X and Y\r\n",
        "mean_x = np.mean(X)\r\n",
        "mean_y = np.mean(Y)\r\n",
        "\r\n",
        "# Total number of values\r\n",
        "n = len(X)\r\n",
        "\r\n"
      ],
      "execution_count": null,
      "outputs": []
    },
    {
      "cell_type": "code",
      "metadata": {
        "colab": {
          "base_uri": "https://localhost:8080/"
        },
        "id": "pBGfwujKI2n2",
        "outputId": "c3e1e917-f99b-4f5a-a38f-63f8eccd0555"
      },
      "source": [
        "# Using the formula to calculate b1 and b0\r\n",
        "numer = 0\r\n",
        "denom = 0\r\n",
        "for i in range(n):\r\n",
        "    numer += (X[i] - mean_x) * (Y[i] - mean_y)\r\n",
        "    denom += (X[i] - mean_x) ** 2\r\n",
        "b1 = numer / denom\r\n",
        "b0 = mean_y - (b1 * mean_x)\r\n",
        "\r\n",
        "# Printing coefficients\r\n",
        "print(\"Coefficients\")\r\n",
        "print(b1, b0)\r\n"
      ],
      "execution_count": null,
      "outputs": [
        {
          "output_type": "stream",
          "text": [
            "Coefficients\n",
            "0.7295010213014298 -47.38255033557046\n"
          ],
          "name": "stdout"
        }
      ]
    },
    {
      "cell_type": "code",
      "metadata": {
        "colab": {
          "base_uri": "https://localhost:8080/"
        },
        "id": "kENROCD4I8h-",
        "outputId": "954e1977-dd32-4cf0-c6e1-21afdf1ff1fa"
      },
      "source": [
        "#predict the weight of person having height= 130?\r\n",
        "#b1 is slope\r\n",
        "#b0 intercept\r\n",
        "#x= 130\r\n",
        "print(b1)\r\n",
        "print(b0)\r\n",
        "y = b0 + b1*171\r\n",
        "print(y)\r\n"
      ],
      "execution_count": null,
      "outputs": [
        {
          "output_type": "stream",
          "text": [
            "0.7295010213014298\n",
            "-47.38255033557046\n",
            "77.36212430697404\n"
          ],
          "name": "stdout"
        }
      ]
    },
    {
      "cell_type": "code",
      "metadata": {
        "id": "63-0Z4KeJBp-"
      },
      "source": [
        "# Plotting Values and Regression Line\r\n",
        "\r\n",
        "max_x = np.max(X) + 100\r\n",
        "min_x = np.min(X) - 100\r\n",
        "\r\n",
        "# Calculating line values x and y\r\n",
        "x = np.linspace(min_x, max_x,100)\r\n",
        "y =[]\r\n",
        "for i in range(100):\r\n",
        "    y.append(b0 + b1 * x[i])\r\n",
        "#print(y)\r\n",
        "\r\n"
      ],
      "execution_count": null,
      "outputs": []
    },
    {
      "cell_type": "code",
      "metadata": {
        "colab": {
          "base_uri": "https://localhost:8080/",
          "height": 279
        },
        "id": "WFmHkaIvJM73",
        "outputId": "113f31fb-5517-494b-89e4-082d25138ff5"
      },
      "source": [
        "# Ploting Line\r\n",
        "plt.plot(x, y, color='#58b970', label='Regression Line')\r\n",
        "# Ploting Scatter Points\r\n",
        "plt.scatter(X, Y, color='#ef5423', label='Scatter Plot')\r\n",
        "\r\n",
        "plt.xlabel('Head Size in cm3')\r\n",
        "plt.ylabel('Brain Weight in grams')\r\n",
        "plt.legend()\r\n",
        "plt.show()\r\n"
      ],
      "execution_count": null,
      "outputs": [
        {
          "output_type": "display_data",
          "data": {
            "image/png": "[encoded data removed]",
            "text/plain": [
              "<Figure size 432x288 with 1 Axes>"
            ]
          },
          "metadata": {
            "tags": [],
            "needs_background": "light"
          }
        }
      ]
    },
    {
      "cell_type": "code",
      "metadata": {
        "colab": {
          "base_uri": "https://localhost:8080/"
        },
        "id": "3-mkwJdVMi2_",
        "outputId": "c85ad2ce-31e0-4c01-aa45-844147b7e2bd"
      },
      "source": [
        "# Calculating Root Mean Squares Error\r\n",
        "rmse = 0\r\n",
        "for i in range(n):\r\n",
        "    y_pred = b0 + b1 * X[i]\r\n",
        "    rmse += (Y[i] - y_pred) ** 2\r\n",
        "rmse = np.sqrt(rmse/n)\r\n",
        "print(\"RMSE\")\r\n",
        "print(rmse)\r\n"
      ],
      "execution_count": null,
      "outputs": [
        {
          "output_type": "stream",
          "text": [
            "RMSE\n",
            "2.02479523402097\n"
          ],
          "name": "stdout"
        }
      ]
    },
    {
      "cell_type": "code",
      "metadata": {
        "colab": {
          "base_uri": "https://localhost:8080/"
        },
        "id": "nG6lN9bcN_Lo",
        "outputId": "6a3d4cf5-24e9-42a4-9c58-d0376bca35f2"
      },
      "source": [
        "# Calculating Root Mean Squares Error\r\n",
        "rmse = 0\r\n",
        "for i in range(n):\r\n",
        "    y_pred = b0 + b1 * X[i]\r\n",
        "    rmse += (Y[i] - y_pred) ** 2\r\n",
        "rmse = np.sqrt(rmse/n)\r\n",
        "print(\"RMSE\")\r\n",
        "print(rmse)\r\n"
      ],
      "execution_count": null,
      "outputs": [
        {
          "output_type": "stream",
          "text": [
            "RMSE\n",
            "2.02479523402097\n"
          ],
          "name": "stdout"
        }
      ]
    },
    {
      "cell_type": "code",
      "metadata": {
        "colab": {
          "base_uri": "https://localhost:8080/"
        },
        "id": "GegcerjLOTDI",
        "outputId": "1d183718-3e21-4260-8f86-a8b7d4a403e2"
      },
      "source": [
        "# Calculating R2 Score\r\n",
        "ss_tot = 0\r\n",
        "ss_res = 0\r\n",
        "for i in range(n):\r\n",
        "    y_pred = b0 + b1 * X[i]\r\n",
        "    ss_tot += (Y[i] - mean_y) ** 2\r\n",
        "    ss_res += (Y[i] - y_pred) ** 2\r\n",
        "r2 = 1 - (ss_res/ss_tot)\r\n",
        "print(\"R2 Score\")\r\n",
        "print(r2)\r\n",
        "#end"
      ],
      "execution_count": null,
      "outputs": [
        {
          "output_type": "stream",
          "text": [
            "R2 Score\n",
            "0.9726680284019065\n"
          ],
          "name": "stdout"
        }
      ]
    },
    {
      "cell_type": "code",
      "metadata": {
        "colab": {
          "base_uri": "https://localhost:8080/",
          "height": 204
        },
        "id": "oRDIsMNhOY9o",
        "outputId": "527c9ebe-9d08-4383-b0ff-ae22d25c4e84"
      },
      "source": [
        "data=pd.read_csv('/content/headbrain.csv')             #for practice\r\n",
        "data.head()"
      ],
      "execution_count": null,
      "outputs": [
        {
          "output_type": "execute_result",
          "data": {
            "text/html": [
              "<div>\n",
              "<style scoped>\n",
              "    .dataframe tbody tr th:only-of-type {\n",
              "        vertical-align: middle;\n",
              "    }\n",
              "\n",
              "    .dataframe tbody tr th {\n",
              "        vertical-align: top;\n",
              "    }\n",
              "\n",
              "    .dataframe thead th {\n",
              "        text-align: right;\n",
              "    }\n",
              "</style>\n",
              "<table border=\"1\" class=\"dataframe\">\n",
              "  <thead>\n",
              "    <tr style=\"text-align: right;\">\n",
              "      <th></th>\n",
              "      <th>Gender</th>\n",
              "      <th>Age Range</th>\n",
              "      <th>Head Size(cm^3)</th>\n",
              "      <th>Brain Weight(grams)</th>\n",
              "    </tr>\n",
              "  </thead>\n",
              "  <tbody>\n",
              "    <tr>\n",
              "      <th>0</th>\n",
              "      <td>1</td>\n",
              "      <td>1</td>\n",
              "      <td>4512</td>\n",
              "      <td>1530</td>\n",
              "    </tr>\n",
              "    <tr>\n",
              "      <th>1</th>\n",
              "      <td>1</td>\n",
              "      <td>1</td>\n",
              "      <td>3738</td>\n",
              "      <td>1297</td>\n",
              "    </tr>\n",
              "    <tr>\n",
              "      <th>2</th>\n",
              "      <td>1</td>\n",
              "      <td>1</td>\n",
              "      <td>4261</td>\n",
              "      <td>1335</td>\n",
              "    </tr>\n",
              "    <tr>\n",
              "      <th>3</th>\n",
              "      <td>1</td>\n",
              "      <td>1</td>\n",
              "      <td>3777</td>\n",
              "      <td>1282</td>\n",
              "    </tr>\n",
              "    <tr>\n",
              "      <th>4</th>\n",
              "      <td>1</td>\n",
              "      <td>1</td>\n",
              "      <td>4177</td>\n",
              "      <td>1590</td>\n",
              "    </tr>\n",
              "  </tbody>\n",
              "</table>\n",
              "</div>"
            ],
            "text/plain": [
              "   Gender  Age Range  Head Size(cm^3)  Brain Weight(grams)\n",
              "0       1          1             4512                 1530\n",
              "1       1          1             3738                 1297\n",
              "2       1          1             4261                 1335\n",
              "3       1          1             3777                 1282\n",
              "4       1          1             4177                 1590"
            ]
          },
          "metadata": {
            "tags": []
          },
          "execution_count": 19
        }
      ]
    },
    {
      "cell_type": "code",
      "metadata": {
        "id": "BT0HmotwQ7hC"
      },
      "source": [
        "x=data['Head Size(cm^3)'].values\r\n",
        "y=data['Brain Weight(grams)'].values\r\n"
      ],
      "execution_count": null,
      "outputs": []
    },
    {
      "cell_type": "code",
      "metadata": {
        "id": "NZz40iuqTCnD"
      },
      "source": [
        "mean_x=np.mean(x)\r\n",
        "mean_y=np.mean(y)\r\n",
        "print(\"mean x:\",mean_x)\r\n",
        "print(mean y)"
      ],
      "execution_count": null,
      "outputs": []
    }
  ]
}